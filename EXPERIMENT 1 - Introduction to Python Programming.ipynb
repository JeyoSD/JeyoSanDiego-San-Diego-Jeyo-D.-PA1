{
 "cells": [
  {
   "cell_type": "markdown",
   "id": "7c4598ba-fb84-48bd-854e-a6588898bafc",
   "metadata": {},
   "source": [
    "# EXPERIMENT 1: Introduction to Python Programming"
   ]
  },
  {
   "cell_type": "markdown",
   "id": "7b11cc4f-7a71-4688-ad28-cc980d8865b7",
   "metadata": {},
   "source": [
    "### Alphabet Soup Problem:"
   ]
  },
  {
   "cell_type": "code",
   "execution_count": 1,
   "id": "cfcbbf24-7437-4f11-9bd3-4626ed03b980",
   "metadata": {},
   "outputs": [
    {
     "name": "stdin",
     "output_type": "stream",
     "text": [
      "Input a string to be arranged alphabetically:  hacker\n"
     ]
    },
    {
     "name": "stdout",
     "output_type": "stream",
     "text": [
      "acehkr\n"
     ]
    }
   ],
   "source": [
    "#Create a function that takes a string and returns a string with its letters in alphabetical order.\n",
    "\n",
    "def alphabet_soup(al_s):\n",
    "    str_list = list(al_s)\n",
    "    str_list.sort()\n",
    "    sorted_string = \"\".join(str_list)\n",
    "\n",
    "    return sorted_string\n",
    "\n",
    "def main():\n",
    "    al_s = input(\"Input a string to be arranged alphabetically: \")\n",
    "    result = alphabet_soup(al_s)\n",
    "    print(result)\n",
    "\n",
    "main()"
   ]
  },
  {
   "cell_type": "markdown",
   "id": "a3ff008a-7efb-4731-be33-9627ad86febc",
   "metadata": {},
   "source": [
    "### Emoticon Problem:"
   ]
  },
  {
   "cell_type": "code",
   "execution_count": 2,
   "id": "3bee5daf-08b4-4ca6-93fe-440bc996b4f3",
   "metadata": {},
   "outputs": [
    {
     "name": "stdin",
     "output_type": "stream",
     "text": [
      "Write a sentence with either smile, grin, sad, or mad:  I am mad!\n"
     ]
    },
    {
     "name": "stdout",
     "output_type": "stream",
     "text": [
      "I am >:(!\n"
     ]
    }
   ],
   "source": [
    "#Create a function that changes specific words into emoticons. \n",
    "#Given a sentence as a string, replace the words smile, grin, sad, and mad with their corresponding emoticon.\n",
    "\n",
    "def emotify(string):\n",
    "\n",
    "    string = string.replace(\"smile\", \":)\")\n",
    "    string = string.replace(\"grin\", \":D\")\n",
    "    string = string.replace(\"sad\", \":((\")\n",
    "    string = string.replace(\"mad\", \">:(\")\n",
    "\n",
    "    return string\n",
    "\n",
    "def main():\n",
    "    string = input(\"Write a sentence with either smile, grin, sad, or mad: \")\n",
    "    result = emotify(string)\n",
    "    print(result)\n",
    "\n",
    "main()"
   ]
  },
  {
   "cell_type": "markdown",
   "id": "cd365bcf-68bb-4551-ad57-b8036064ca46",
   "metadata": {},
   "source": [
    "### Unpacking List Problem:"
   ]
  },
  {
   "cell_type": "code",
   "execution_count": 3,
   "id": "a594a73f-e7b9-426b-a5fd-8bc4cfa546d0",
   "metadata": {},
   "outputs": [
    {
     "name": "stdout",
     "output_type": "stream",
     "text": [
      "First: 1\n",
      "Middle: [2, 3, 4, 5]\n",
      "Last: 6\n"
     ]
    }
   ],
   "source": [
    "#Unpack the list into three variables, being first, middle, and last, with middle being everything in between the first and last element. \n",
    "#Then print all three variables.\n",
    "\n",
    "def unpacking_list():\n",
    "    packed_list = [1,2,3,4,5,6]\n",
    "    \n",
    "    first = packed_list[0]\n",
    "    middle = packed_list[1:-1]\n",
    "    last = packed_list[-1]\n",
    "\n",
    "    print(\"First: \" + str(first))\n",
    "    print(\"Middle: \" + str(middle))\n",
    "    print (\"Last: \" + str(last))\n",
    "\n",
    "unpacking_list()"
   ]
  }
 ],
 "metadata": {
  "kernelspec": {
   "display_name": "Python [conda env:base] *",
   "language": "python",
   "name": "conda-base-py"
  },
  "language_info": {
   "codemirror_mode": {
    "name": "ipython",
    "version": 3
   },
   "file_extension": ".py",
   "mimetype": "text/x-python",
   "name": "python",
   "nbconvert_exporter": "python",
   "pygments_lexer": "ipython3",
   "version": "3.13.5"
  }
 },
 "nbformat": 4,
 "nbformat_minor": 5
}
