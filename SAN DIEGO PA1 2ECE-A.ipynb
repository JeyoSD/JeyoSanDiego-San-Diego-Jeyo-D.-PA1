{
 "cells": [
  {
   "cell_type": "markdown",
   "id": "7c4598ba-fb84-48bd-854e-a6588898bafc",
   "metadata": {},
   "source": [
    "# EXPERIMENT 1: Introduction to Python Programming"
   ]
  },
  {
   "cell_type": "markdown",
   "id": "7b11cc4f-7a71-4688-ad28-cc980d8865b7",
   "metadata": {},
   "source": [
    "### Alphabet Soup Problem:"
   ]
  },
  {
   "cell_type": "code",
   "execution_count": 1,
   "id": "cfcbbf24-7437-4f11-9bd3-4626ed03b980",
   "metadata": {},
   "outputs": [
    {
     "name": "stdin",
     "output_type": "stream",
     "text": [
      "Input a string to be arranged alphabetically:  hacker\n"
     ]
    },
    {
     "name": "stdout",
     "output_type": "stream",
     "text": [
      "acehkr\n"
     ]
    }
   ],
   "source": [
    "def alphabet_soup(al_s): #Creates a user-defined function called alphabet_soup()\n",
    "    str_list = list(al_s) #Converts the given parameters into a list\n",
    "    str_list.sort() #Sorts the list into alphabetical order\n",
    "    sorted_string = \"\".join(str_list) #Converts the list back into a string\n",
    "\n",
    "    return sorted_string #Returns the sorted string content\n",
    "\n",
    "def main():\n",
    "    inp = input(\"Input a string to be arranged alphabetically: \") #Asks for user input on a string to be arranged by the alphabet_soup function\n",
    "    result = alphabet_soup(inp) #Calls the alphabet_soup function and assigns the result of the function to 'result'\n",
    "    print(result) #Outputs the result of the function\n",
    "main()"
   ]
  },
  {
   "cell_type": "markdown",
   "id": "a3ff008a-7efb-4731-be33-9627ad86febc",
   "metadata": {},
   "source": [
    "### Emoticon Problem:"
   ]
  },
  {
   "cell_type": "code",
   "execution_count": 2,
   "id": "3bee5daf-08b4-4ca6-93fe-440bc996b4f3",
   "metadata": {},
   "outputs": [
    {
     "name": "stdin",
     "output_type": "stream",
     "text": [
      "Write a sentence with either smile, grin, sad, or mad:  I am mad!\n"
     ]
    },
    {
     "name": "stdout",
     "output_type": "stream",
     "text": [
      "I am >:(!\n"
     ]
    }
   ],
   "source": [
    "def emotify(string): #Creates a user-defined function called emotify()\n",
    "    string = string.replace(\"smile\", \":)\") #Converts any 'smile' found in the input into ':)'\n",
    "    string = string.replace(\"grin\", \":D\") #Converts any 'grin' found in the input into ':D'\n",
    "    string = string.replace(\"sad\", \":((\") #Converts any 'sad' found in the input into ':(('\n",
    "    string = string.replace(\"mad\", \">:(\") #Converts any 'mad' found in the input into '>:('\n",
    "\n",
    "    return string #Returns the converted string value\n",
    "\n",
    "def main():\n",
    "    user_input = input(\"Write a sentence with either smile, grin, sad, or mad: \") #Asks for user input on a string that will have the given words converted to emoticon form\n",
    "    result = emotify(user_input) #Stores the converted string value to result\n",
    "    print(result) #Outputs the result of the function\n",
    "main()"
   ]
  },
  {
   "cell_type": "markdown",
   "id": "cd365bcf-68bb-4551-ad57-b8036064ca46",
   "metadata": {},
   "source": [
    "### Unpacking List Problem:"
   ]
  },
  {
   "cell_type": "code",
   "execution_count": 3,
   "id": "a594a73f-e7b9-426b-a5fd-8bc4cfa546d0",
   "metadata": {},
   "outputs": [
    {
     "name": "stdout",
     "output_type": "stream",
     "text": [
      "First:  1\n",
      "Middle:  [2, 3, 4, 5]\n",
      "Last:  6\n"
     ]
    }
   ],
   "source": [
    "def unpacking_list():\n",
    "    packed_list = [1,2,3,4,5,6] #Sets the values of the packed list\n",
    "    \n",
    "    first = packed_list[0] #Indexes the first element\n",
    "    middle = packed_list[1:-1] #Slices the second element up till before the last element\n",
    "    last = packed_list[-1] #Indexes the last element\n",
    "\n",
    "    print(\"First: \", str(first)) #Outputs the indexed first element stored in 'first'\n",
    "    print(\"Middle: \", str(middle)) #Outputs the sliced elements stored in 'middle'\n",
    "    print (\"Last: \", str(last)) #Outputs the indexed last element stores in 'last'\n",
    "\n",
    "unpacking_list() #Calls the function"
   ]
  }
 ],
 "metadata": {
  "kernelspec": {
   "display_name": "Python [conda env:base] *",
   "language": "python",
   "name": "conda-base-py"
  },
  "language_info": {
   "codemirror_mode": {
    "name": "ipython",
    "version": 3
   },
   "file_extension": ".py",
   "mimetype": "text/x-python",
   "name": "python",
   "nbconvert_exporter": "python",
   "pygments_lexer": "ipython3",
   "version": "3.13.5"
  }
 },
 "nbformat": 4,
 "nbformat_minor": 5
}
